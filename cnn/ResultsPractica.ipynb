{
 "cells": [
  {
   "attachments": {},
   "cell_type": "markdown",
   "metadata": {},
   "source": [
    "# **CNN: Convolutional Networks**\n",
    "\n",
    "## _CNN analytics_\n",
    "\n",
    "- *Juan Merino* \n",
    "- *Juan Ortega* \n",
    "- *Guillemo*\n",
    "- *Charles*\n",
    "- *Sergio*"
   ]
  },
  {
   "attachments": {},
   "cell_type": "markdown",
   "metadata": {},
   "source": [
    "### _Data Preparation_\n",
    "Image generator:\n",
    "- directory : Location of the Directory\n",
    "- labels = \\inferred\\ : labels of the photos stated by the directory structure\n",
    "- label_mode = \"\\categorical\\\" : Type of label\n",
    "- class_names = [\\\"Class1\\\",\\\"Class2\\\",\\\"Class3\\\",\\\"Class4\\\"] : Only valid if label is inferred\n",
    "- color_mode = \\\"grayscale\\\", \\\"rgb\\\", \\\"rgba\\\" depending on channel (1, 3 or 4)\n",
    "- batch_size = 32 : Number of images that are proccessed in each iteration\n",
    "- image_size = (256,256) -> (default): Size to resize the image when read from disk -> Un batchsize pequeño es más preciso pero más lento\n",
    "- shuffle = True (default) -> The data is randomly shuffled before being divided into batches for training.\n",
    "- seed = optional -> For reproducibility\n",
    "- validation_split = 0.1 : Fraction of data reserved for validation\n",
    "- subset : only used when validation is set\n",
    "- interpolation = bilinear (default) : used for resizing images\n",
    "- crop_to_aspect_ratio : True para redimensión recortando imagen, False para redimensión con deformidad\"\n"
   ]
  },
  {
   "attachments": {},
   "cell_type": "markdown",
   "metadata": {},
   "source": [
    "### _Explaining CNN model_\n",
    "A Convolutional Neural Network is a type of neuronal network used in deep learning for image recognition, computer vision and natural language processing. A convolutional layer applies a set of learnable filters, or kernels, to the input data, producing a set of feature maps that highlight different aspects of the input.The output of a convolutional layer is typically fed into a pooling layer, which reduces the spatial dimensions of the feature maps while preserving their important features. The pooled output is then passed through one or more fully connected layers, which can perform classification or regression on the extracted features.\n",
    "\n",
    "The module CNN.py has different methods and functonalities, this section will focuse on explaining how it works so that the experimental part of trying out hyperparameters is easier. This module has 9 methods, one of them is a *staticmethod*, this means it can be called without creating an instance of a class and therefore it does not recieve the parameter self.\n",
    "- **Training method**:   \n",
    "Recieves: \n",
    "    - the training directory and validation directory,   \n",
    "    - a base_model to choose from,   \n",
    "    - the number of epochs with default to 1,   \n",
    "    - the number of unfreezed convolutional layers with default of 0,   \n",
    "    - training batch size with default to 32,   \n",
    "    - validation_batch_size with default to 32,  \n",
    "    - learning_rate with default to 1e-4   \n",
    "\n",
    "Inside the method:  \n",
    "These will be parameters to be tryed out in order to select the model with the highest accuracy. \n",
    "The model is initialized calling the **_initialize_base_model** method, data generation and preparation phases are set, the network is trained complied with an optimizer the visualization of the training is set to start the _fit_ function and train the model.\n",
    "\n",
    "-**\n",
    "\n",
    "\n",
    "\n"
   ]
  },
  {
   "cell_type": "code",
   "execution_count": null,
   "metadata": {
    "vscode": {
     "languageId": "plaintext"
    }
   },
   "outputs": [],
   "source": []
  }
 ],
 "metadata": {
  "language_info": {
   "name": "python"
  },
  "orig_nbformat": 4
 },
 "nbformat": 4,
 "nbformat_minor": 2
}
