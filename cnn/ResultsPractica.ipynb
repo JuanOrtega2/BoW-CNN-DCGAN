{
 "cells": [
  {
   "attachments": {},
   "cell_type": "markdown",
   "metadata": {},
   "source": [
    "# **CNN: Convolutional Networks**\n",
    "\n",
    "## _CNN analytics_\n",
    "\n",
    "- *Juan Merino* \n",
    "- *Juan Ortega* \n",
    "- *Guillemo*\n",
    "- *Charles*\n",
    "- *Sergio*"
   ]
  },
  {
   "attachments": {},
   "cell_type": "markdown",
   "metadata": {},
   "source": [
    "### _Data Preparation_\n",
    "Image generator:\n",
    "- directory : Location of the Directory\n",
    "- labels = \\inferred\\ : labels of the photos stated by the directory structure\n",
    "- label_mode = \"\\categorical\\\" : Type of label\n",
    "- class_names = [\\\"Class1\\\",\\\"Class2\\\",\\\"Class3\\\",\\\"Class4\\\"] : Only valid if label is inferred\n",
    "- color_mode = \\\"grayscale\\\", \\\"rgb\\\", \\\"rgba\\\" depending on channel (1, 3 or 4)\n",
    "- batch_size = 32 : Number of images that are proccessed in each iteration\n",
    "- image_size = (256,256) -> (default): Size to resize the image when read from disk -> Un batchsize pequeño es más preciso pero más lento\n",
    "- shuffle = True (default) -> The data is randomly shuffled before being divided into batches for training.\n",
    "- seed = optional -> For reproducibility\n",
    "- validation_split = 0.1 : Fraction of data reserved for validation\n",
    "- subset : only used when validation is set\n",
    "- interpolation = bilinear (default) : used for resizing images\n",
    "- crop_to_aspect_ratio : True para redimensión recortando imagen, False para redimensión con deformidad\"\n"
   ]
  },
  {
   "cell_type": "code",
   "execution_count": null,
   "metadata": {
    "vscode": {
     "languageId": "plaintext"
    }
   },
   "outputs": [],
   "source": []
  }
 ],
 "metadata": {
  "language_info": {
   "name": "python"
  },
  "orig_nbformat": 4
 },
 "nbformat": 4,
 "nbformat_minor": 2
}
